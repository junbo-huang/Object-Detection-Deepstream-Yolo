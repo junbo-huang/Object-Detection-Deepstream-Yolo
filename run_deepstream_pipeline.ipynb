{
 "cells": [
  {
   "cell_type": "code",
   "execution_count": 1,
   "id": "1b6dda6a-037e-471d-9602-e8c9daf486dd",
   "metadata": {},
   "outputs": [
    {
     "name": "stdout",
     "output_type": "stream",
     "text": [
      "Creating Pipeline \n",
      " \n",
      "Creating streamux \n",
      " \n",
      "Creating source_bin  0  \n",
      " \n",
      "Creating source bin\n",
      "source-bin-00\n",
      "Creating Pgie \n",
      " \n",
      "Creating tracker \n",
      " \n",
      "Creating analytics \n",
      " \n",
      "Creating tiler \n",
      " \n",
      "Creating nvvidconv \n",
      " \n",
      "Creating nvosd \n",
      " \n",
      "Creating H264 Encoder\n",
      "Adding elements to Pipeline \n",
      "\n",
      "Adding elements to Pipeline \n",
      "\n",
      "Starting pipeline \n",
      "\n",
      "Opening in BLOCKING MODE \n",
      "gstnvtracker: Loading low-level lib at /opt/nvidia/deepstream/deepstream-6.0/lib/libnvds_nvmultiobjecttracker.so\n",
      "~~ CLOG[/dvs/git/dirty/git-master_linux/deepstream/sdk/src/utils/nvmultiobjecttracker/include/modules/NvMultiObjectTracker/NvTrackerParams.hpp, getConfigRoot() @line 54]: [NvTrackerParams::getConfigRoot()] !!![WARNING] Invalid low-level config file caused an exception, but will go ahead with the default config values\n",
      "gstnvtracker: Batch processing is ON\n",
      "gstnvtracker: Past frame output is OFF\n",
      "~~ CLOG[/dvs/git/dirty/git-master_linux/deepstream/sdk/src/utils/nvmultiobjecttracker/include/modules/NvMultiObjectTracker/NvTrackerParams.hpp, getConfigRoot() @line 54]: [NvTrackerParams::getConfigRoot()] !!![WARNING] Invalid low-level config file caused an exception, but will go ahead with the default config values\n",
      "[NvMultiObjectTracker] Initialized\n",
      "WARNING: [TRT]: Using an engine plan file across different models of devices is not recommended and is likely to affect performance or even cause errors.\n",
      "Deserialize yoloLayer plugin: yolo_140\n",
      "Deserialize yoloLayer plugin: yolo_151\n",
      "Deserialize yoloLayer plugin: yolo_162\n",
      "0:00:07.826892668 \u001b[334m  525\u001b[00m     0x1fdd1440 \u001b[36mINFO   \u001b[00m \u001b[00m             nvinfer gstnvinfer.cpp:638:gst_nvinfer_logger:<primary-inference>\u001b[00m NvDsInferContext[UID 1]: Info from NvDsInferContextImpl::deserializeEngineAndBackend() <nvdsinfer_context_impl.cpp:1900> [UID = 1]: deserialized trt engine from :/dli/task/deepstream-nano-detection/engine_files/model_b1_gpu0_fp16.engine\n",
      "INFO: [Implicit Engine Info]: layers num: 4\n",
      "0   INPUT  kFLOAT data            3x320x320       \n",
      "1   OUTPUT kFLOAT yolo_140        27x40x40        \n",
      "2   OUTPUT kFLOAT yolo_151        27x20x20        \n",
      "3   OUTPUT kFLOAT yolo_162        27x10x10        \n",
      "\n",
      "0:00:07.828193684 \u001b[334m  525\u001b[00m     0x1fdd1440 \u001b[36mINFO   \u001b[00m \u001b[00m             nvinfer gstnvinfer.cpp:638:gst_nvinfer_logger:<primary-inference>\u001b[00m NvDsInferContext[UID 1]: Info from NvDsInferContextImpl::generateBackendContext() <nvdsinfer_context_impl.cpp:2004> [UID = 1]: Use deserialized engine model: /dli/task/deepstream-nano-detection/engine_files/model_b1_gpu0_fp16.engine\n",
      "0:00:07.836504373 \u001b[334m  525\u001b[00m     0x1fdd1440 \u001b[36mINFO   \u001b[00m \u001b[00m             nvinfer gstnvinfer_impl.cpp:313:notifyLoadModelStatus:<primary-inference>\u001b[00m [UID 1]: Load new model:config_infer_primary_yolo.txt sucessfully\n",
      "Warning: converting ROIs to RGBA for VIC mode\n",
      "Decodebin child added: source \n",
      "\n",
      "Decodebin child added: decodebin0 \n",
      "\n",
      "Decodebin child added: qtdemux0 \n",
      "\n",
      "Decodebin child added: multiqueue0 \n",
      "\n",
      "Decodebin child added: mpeg4vparse0 \n",
      "\n",
      "Decodebin child added: nvv4l2decoder0 \n",
      "\n",
      "Opening in BLOCKING MODE \n",
      "NvMMLiteOpen : Block : BlockType = 260 \n",
      "NVMEDIA: Reading vendor.tegra.display-size : status: 6 \n",
      "NvMMLiteBlockCreate : Block : BlockType = 260 \n",
      "In cb_newpad\n",
      "\n",
      "gstname= video/x-raw\n",
      "features= <Gst.CapsFeatures object at 0x7f98eca888 (GstCapsFeatures at 0x7efc005b00)>\n",
      "NvMMLiteOpen : Block : BlockType = 4 \n",
      "===== NVMEDIA: NVENC =====\n",
      "NvMMLiteBlockCreate : Block : BlockType = 4 \n",
      "H264: Profile = 66, Level = 0 \n",
      "NVMEDIA_ENC: bBlitMode is set to TRUE \n",
      "**********************FPS*****************************************\n",
      "Fps of stream 0 is  8.0\n",
      "**********************FPS*****************************************\n",
      "Fps of stream 0 is  7.8\n",
      "**********************FPS*****************************************\n",
      "Fps of stream 0 is  7.8\n",
      "**********************FPS*****************************************\n",
      "Fps of stream 0 is  7.8\n",
      "**********************FPS*****************************************\n",
      "Fps of stream 0 is  7.8\n",
      "**********************FPS*****************************************\n",
      "Fps of stream 0 is  7.8\n",
      "**********************FPS*****************************************\n",
      "Fps of stream 0 is  7.8\n",
      "**********************FPS*****************************************\n",
      "Fps of stream 0 is  7.8\n",
      "**********************FPS*****************************************\n",
      "Fps of stream 0 is  7.8\n",
      "**********************FPS*****************************************\n",
      "Fps of stream 0 is  7.8\n",
      "**********************FPS*****************************************\n",
      "Fps of stream 0 is  7.8\n",
      "**********************FPS*****************************************\n",
      "Fps of stream 0 is  7.8\n",
      "**********************FPS*****************************************\n",
      "Fps of stream 0 is  7.8\n",
      "**********************FPS*****************************************\n",
      "Fps of stream 0 is  7.8\n",
      "End-of-stream\n",
      "[NvMultiObjectTracker] De-initialized\n"
     ]
    }
   ],
   "source": [
    "# Run the app with YOLO\n",
    "OUTPUT_PATH_EX1 = './sample_output.mp4'\n",
    "!python3 deepstream_pipeline.py \\\n",
    "        -o $OUTPUT_PATH_EX1 \\\n",
    "        -i file://$(pwd)/sample_streams/video6.mp4"
   ]
  },
  {
   "cell_type": "code",
   "execution_count": 9,
   "id": "86f958ba-8b22-44eb-89c0-459402e31a75",
   "metadata": {},
   "outputs": [
    {
     "data": {
      "text/html": [
       "<video src=\"sample_output.mp4\" controls  width=\"1280\"  height=\"960\">\n",
       "      Your browser does not support the <code>video</code> element.\n",
       "    </video>"
      ],
      "text/plain": [
       "<IPython.core.display.Video object>"
      ]
     },
     "execution_count": 9,
     "metadata": {},
     "output_type": "execute_result"
    }
   ],
   "source": [
    "# Watch the saved video\n",
    "import os\n",
    "from IPython.display import Video\n",
    "\n",
    "video_path = os.path.relpath('./sample_output.mp4')\n",
    "Video(video_path, width = 1280, height = 960)"
   ]
  },
  {
   "cell_type": "code",
   "execution_count": null,
   "id": "20e90fbb-b87d-4ff7-ab5c-3346d3bd4375",
   "metadata": {},
   "outputs": [],
   "source": []
  }
 ],
 "metadata": {
  "kernelspec": {
   "display_name": "Python 3",
   "language": "python",
   "name": "python3"
  },
  "language_info": {
   "codemirror_mode": {
    "name": "ipython",
    "version": 3
   },
   "file_extension": ".py",
   "mimetype": "text/x-python",
   "name": "python",
   "nbconvert_exporter": "python",
   "pygments_lexer": "ipython3",
   "version": "3.6.9"
  }
 },
 "nbformat": 4,
 "nbformat_minor": 5
}
